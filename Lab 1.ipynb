{
 "cells": [
  {
   "cell_type": "markdown",
   "metadata": {},
   "source": [
    "<h1>Lab 1"
   ]
  },
  {
   "cell_type": "markdown",
   "metadata": {},
   "source": [
    "Caroline Blue, 9/7/2016"
   ]
  },
  {
   "cell_type": "markdown",
   "metadata": {},
   "source": [
    "<h2>Part 1"
   ]
  },
  {
   "cell_type": "code",
   "execution_count": 86,
   "metadata": {
    "collapsed": false
   },
   "outputs": [],
   "source": [
    "#File Reading\n",
    "#Emma Anderson, Big Data, 9/7/16\n",
    "#open and save the file for reading\n",
    "data_file = open(\"FreBridge1.csv\", \"r\");\n",
    "#create an empty list to store the data\n",
    "data_list = [];\n",
    "#put all lines from the file into a list\n",
    "for ii in data_file:\n",
    "    data_list.append(ii);\n",
    "\n",
    "#remove the first element (column header)\n",
    "del data_list[0];\n",
    "#create empty lists for westbound and eastbound bikes\n",
    "west = [];\n",
    "east = [];    \n",
    "for jj in range(len(data_list)):\n",
    "    #make into a list of lists of just numbers\n",
    "    data_list[jj] = data_list[jj].split(\",\");\n",
    "    #add data to specific lists for west and east\n",
    "    west.append(int(data_list[jj][1]));\n",
    "    east.append(int(data_list[jj][2]));"
   ]
  },
  {
   "cell_type": "code",
   "execution_count": 87,
   "metadata": {
    "collapsed": false
   },
   "outputs": [
    {
     "name": "stdout",
     "output_type": "stream",
     "text": [
      "mean of east side of bridge: 1540.4333333333334\n",
      "median of east side of bridge: 1648.0\n",
      "mean of west side of bridge: 1497.5666666666666\n",
      "median of west side of bridge: 1573.5\n",
      "mean of both sides of bridge: 1519\n",
      "median of both sides of bridge: 1621.0\n",
      "there is no mode, there is only one of each value\n",
      "the day of the week with the most traffic is: Monday\n"
     ]
    }
   ],
   "source": [
    "import statistics as st\n",
    "#find and print mean median and mode\n",
    "print(\"mean of east side of bridge:\",st.mean(east))\n",
    "print(\"median of east side of bridge:\",st.median(east))\n",
    "#print(\"mode of east side of bridge:\",st.mode(east))\n",
    "print(\"mean of west side of bridge:\",st.mean(west))\n",
    "print(\"median of west side of bridge:\",st.median(west))\n",
    "#print(\"mode of west side of bridge:\",st.mode(west))\n",
    "both = []\n",
    "for ii in range(len(east)):\n",
    "    both.append(east[ii])\n",
    "    both.append(west[ii])\n",
    "print(\"mean of both sides of bridge:\",st.mean(both))\n",
    "print(\"median of both sides of bridge:\",st.median(both))\n",
    "#print(\"mode of both sides of bridge:\",st.mode(both))\n",
    "print(\"there is no mode, there is only one of each value\")\n",
    "monW = []\n",
    "tueW = []\n",
    "wedW = []\n",
    "thuW = []\n",
    "friW = []\n",
    "satW = []\n",
    "sunW = []\n",
    "monE = []\n",
    "tueE = []\n",
    "wedE = []\n",
    "thuE = []\n",
    "friE = []\n",
    "satE = []\n",
    "sunE = []\n",
    "maxE = 0\n",
    "maxDE = \"\"\n",
    "maxW = 0\n",
    "maxDW = \"\"\n",
    "for ii in range(int(len(east)/7)):#cuts off last couple days (len(east)%7)\n",
    "    tueW.append(west[ii])\n",
    "    wedW.append(west[ii+1])\n",
    "    thuW.append(west[ii+2])\n",
    "    friW.append(west[ii+3])\n",
    "    satW.append(west[ii+4])\n",
    "    sunW.append(west[ii+5])\n",
    "    monW.append(west[ii+6])\n",
    "    tueE.append(east[ii])\n",
    "    wedE.append(east[ii+1])\n",
    "    thuE.append(east[ii+2])\n",
    "    friE.append(east[ii+3])\n",
    "    satE.append(east[ii+4])\n",
    "    sunE.append(east[ii+5])\n",
    "    monE.append(east[ii+6])\n",
    "#print(sum(tueW),sum(wedW),sum(thuW),sum(friW),sum(satW),sum(sunW),sum(monW))\n",
    "if int(sum(tueW)) > maxW:\n",
    "    maxDW = \"Tuesday\"\n",
    "    maxW = sum(tueW)\n",
    "if int(sum(wedW)) > maxW:\n",
    "    maxDW = \"Wednesday\"\n",
    "    maxW = sum(wedW)\n",
    "if int(sum(thuW)) > maxW:\n",
    "    maxDW = \"Thursday\"\n",
    "    maxW = sum(thuW)\n",
    "if int(sum(friW)) > maxW:\n",
    "    maxDW = \"Friday\"\n",
    "    maxW = sum(friW)\n",
    "if int(sum(satW)) > maxW:\n",
    "    maxDW = \"Saturday\"\n",
    "    maxW = sum(satW)\n",
    "if int(sum(sunW)) > maxW:\n",
    "    maxDW = \"Sunday\"\n",
    "    maxW = sum(sunW)\n",
    "if int(sum(monW)) > maxW:\n",
    "    maxDW = \"Monday\"\n",
    "    maxW = sum(monW)\n",
    "print(\"the day of the week with the most traffic is:\", maxDW)"
   ]
  },
  {
   "cell_type": "markdown",
   "metadata": {},
   "source": [
    "This data is apperently from two sensors on either side of the bridge, one on the east and one on the west, that are counting the number of padestrians and bikes that pass the bridge.  The mean represents how many people on average use the bridge.  The median represents the center of the data.  There is no unike mode because the mode represents two days in which an equal number of people passed and since these numbers are in the thousands and a repeated number is highly unlikely. The day of the week with the most traffic is Monday, excluding the last couple of days because 30 is not evenly divisable by 7 and a couple of random days do not matter much."
   ]
  },
  {
   "cell_type": "markdown",
   "metadata": {},
   "source": [
    "<h2>Part 2"
   ]
  },
  {
   "cell_type": "code",
   "execution_count": 95,
   "metadata": {
    "collapsed": false
   },
   "outputs": [
    {
     "name": "stdout",
     "output_type": "stream",
     "text": [
      "mean:\n",
      "all days:              2784.4219734079775\n",
      "fridays:               2931.9460784313724\n",
      "septemberand october:  2868.866666666667\n",
      "median:\n",
      "all days:              2595\n",
      "fridays:               2869.5\n",
      "septemberand october:  2953.5\n",
      "standard diviation:\n",
      "all days:              1392.6740964922988\n",
      "fridays:               1135.045057604511\n",
      "septemberand october:  641.7990733669787\n"
     ]
    }
   ],
   "source": [
    "import matplotlib.pyplot as plt\n",
    "% matplotlib inline\n",
    "data_file2 = open(\"FreBridge2.csv\", \"r\");\n",
    "data_list2 = [];\n",
    "total = []\n",
    "fridays = []\n",
    "fall = []\n",
    "septOct = []\n",
    "date = []\n",
    "for ii in data_file2:\n",
    "    data_list2.append(ii);\n",
    "del data_list2[0];\n",
    "\n",
    "for jj in range(len(data_list2)):\n",
    "    data_list2[jj] = data_list2[jj].split(\",\");\n",
    "    total.append(int(data_list2[jj][1])+int(data_list2[jj][2]));#both sides of bridge\n",
    "    data_list2[jj][0]= data_list2[jj][0].split(\"/\")\n",
    "    if jj%7==2: #on fridays\n",
    "        fridays.append(int(data_list2[jj][1])+int(data_list2[jj][2]));#both sides of bridge\n",
    "        date.append(int(data_list2[jj][0][0])*31+int(data_list2[jj][0][1]))\n",
    "        if int(data_list2[jj][0][0])>8:\n",
    "                if int(data_list2[jj][0][0])<11:\n",
    "                    septOct.append(int(data_list2[jj][1])+int(data_list2[jj][2]))\n",
    "\n",
    "print(\"mean:\")\n",
    "print(\"all days:             \",st.mean(total))\n",
    "print(\"fridays:              \",st.mean(fridays))\n",
    "print(\"septemberand october: \",st.mean(septOct))\n",
    "print(\"median:\")\n",
    "print(\"all days:             \",st.median(total))\n",
    "print(\"fridays:              \",st.median(fridays))\n",
    "print(\"septemberand october: \",st.median(septOct))\n",
    "print(\"standard diviation:\")\n",
    "print(\"all days:             \",st.stdev(total))\n",
    "print(\"fridays:              \",st.stdev(fridays))\n",
    "print(\"septemberand october: \",st.stdev(septOct))"
   ]
  },
  {
   "cell_type": "code",
   "execution_count": 89,
   "metadata": {
    "collapsed": false
   },
   "outputs": [
    {
     "data": {
      "text/plain": [
       "<matplotlib.text.Text at 0x114e11940>"
      ]
     },
     "execution_count": 89,
     "metadata": {},
     "output_type": "execute_result"
    },
    {
     "data": {
      "image/png": "[encoded data removed]",
      "text/plain": [
       "<matplotlib.figure.Figure at 0x116386cf8>"
      ]
     },
     "metadata": {},
     "output_type": "display_data"
    }
   ],
   "source": [
    "plt.hist(total)\n",
    "plt.title(\"Entire Timeframe\")\n",
    "plt.xlabel(\"Number of Passerby\")"
   ]
  },
  {
   "cell_type": "code",
   "execution_count": 90,
   "metadata": {
    "collapsed": false
   },
   "outputs": [
    {
     "data": {
      "text/plain": [
       "<matplotlib.text.Text at 0x116426f98>"
      ]
     },
     "execution_count": 90,
     "metadata": {},
     "output_type": "execute_result"
    },
    {
     "data": {
      "image/png": "[encoded data removed]",
      "text/plain": [
       "<matplotlib.figure.Figure at 0x1163fb8d0>"
      ]
     },
     "metadata": {},
     "output_type": "display_data"
    }
   ],
   "source": [
    "plt.hist(septOct)\n",
    "plt.title(\"September and October\")\n",
    "plt.xlabel(\"Number of Passerby\")"
   ]
  },
  {
   "cell_type": "code",
   "execution_count": 91,
   "metadata": {
    "collapsed": false
   },
   "outputs": [
    {
     "data": {
      "text/plain": [
       "<matplotlib.text.Text at 0x116386c50>"
      ]
     },
     "execution_count": 91,
     "metadata": {},
     "output_type": "execute_result"
    },
    {
     "data": {
      "image/png": "[encoded data removed]",
      "text/plain": [
       "<matplotlib.figure.Figure at 0x116446828>"
      ]
     },
     "metadata": {},
     "output_type": "display_data"
    }
   ],
   "source": [
    "plt.hist(fridays)\n",
    "plt.title(\"Fridays\")\n",
    "plt.xlabel(\"Number of Passerby\")"
   ]
  },
  {
   "cell_type": "code",
   "execution_count": 92,
   "metadata": {
    "collapsed": false
   },
   "outputs": [
    {
     "name": "stdout",
     "output_type": "stream",
     "text": [
      "line is 9/30\n"
     ]
    },
    {
     "data": {
      "image/png": "[encoded data removed]",
      "text/plain": [
       "<matplotlib.figure.Figure at 0x10aaec710>"
      ]
     },
     "metadata": {},
     "output_type": "display_data"
    }
   ],
   "source": [
    "plt.scatter(date, fridays)\n",
    "plt.ylabel(\"Number of Passerby\")\n",
    "plt.xlabel(\"fridays by year\")\n",
    "plt.plot([309,309],[1000,6000])#september 30\n",
    "print(\"line is 9/30\")"
   ]
  },
  {
   "cell_type": "code",
   "execution_count": 97,
   "metadata": {
    "collapsed": false
   },
   "outputs": [
    {
     "name": "stdout",
     "output_type": "stream",
     "text": [
      "the mean of Fridays in September and October is: 2868.866666666667\n",
      "the standard diviation is: 641.7990733669787\n"
     ]
    }
   ],
   "source": [
    "print(\"the mean of Fridays in September and October is:\",st.mean(septOct))\n",
    "print(\"the standard diviation is:\",st.stdev(septOct))"
   ]
  },
  {
   "cell_type": "markdown",
   "metadata": {},
   "source": [
    "My prediction for the number of people to cross the bridge on Friday September 30, 2016 is between 3511 and 2227 people. This is hopefully taking into account the fact that on Fridays different numbers of people cross over the bridge and the fact that more people cross over in the summer than in the winter.  One sigma of the likely values should be in this range however I did not take into account hollidays or events that may be taking place on that day.  if I did the math correctly than this should be 67% accurate."
   ]
  },
  {
   "cell_type": "code",
   "execution_count": null,
   "metadata": {
    "collapsed": true
   },
   "outputs": [],
   "source": []
  }
 ],
 "metadata": {
  "anaconda-cloud": {},
  "kernelspec": {
   "display_name": "Python [Root]",
   "language": "python",
   "name": "Python [Root]"
  },
  "language_info": {
   "codemirror_mode": {
    "name": "ipython",
    "version": 3
   },
   "file_extension": ".py",
   "mimetype": "text/x-python",
   "name": "python",
   "nbconvert_exporter": "python",
   "pygments_lexer": "ipython3",
   "version": "3.5.2"
  }
 },
 "nbformat": 4,
 "nbformat_minor": 0
}
