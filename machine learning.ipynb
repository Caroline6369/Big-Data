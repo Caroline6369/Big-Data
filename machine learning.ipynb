{
 "cells": [
  {
   "cell_type": "code",
   "execution_count": 5,
   "metadata": {
    "collapsed": false
   },
   "outputs": [
    {
     "name": "stdout",
     "output_type": "stream",
     "text": [
      "[1]\n"
     ]
    }
   ],
   "source": [
    "from sklearn import tree\n",
    "features = [[140, 1],[130, 1],[150, 0],[170, 0]]\n",
    "lables = [0,0,1,1]\n",
    "clf = tree.DecisionTreeClassifier()\n",
    "clf = clf.fit(features, lables)\n",
    "print(clf.predict([[160,0]]))"
   ]
  },
  {
   "cell_type": "code",
   "execution_count": 17,
   "metadata": {
    "collapsed": false
   },
   "outputs": [
    {
     "name": "stdout",
     "output_type": "stream",
     "text": [
      "[[75, 0], [62, 1], [70, 1], [71, 0], [59, 1], [40, 1], [63, 0], [66, 1], [59, 0]]\n",
      "['no']\n"
     ]
    }
   ],
   "source": [
    "from sklearn import tree\n",
    "file = open(\"ms_anderson_walks.csv\",\"r\")\n",
    "features = []\n",
    "lables = []\n",
    "def listFromFile(file):\n",
    "    list1 = []\n",
    "    for i in file:\n",
    "        list1.append(i)\n",
    "    del list1[0]\n",
    "    for j in range(len(list1)):\n",
    "        list1[j]=list1[j].split(\",\")\n",
    "    return list1\n",
    "walks = listFromFile(file)\n",
    "for row in walks:\n",
    "    if row[1] == 'rain':\n",
    "        x=0\n",
    "    else:\n",
    "        x=1\n",
    "    features.append([int(row[0]), x])\n",
    "    lables.append(row[2])\n",
    "print(features)\n",
    "clf = tree.DecisionTreeClassifier()\n",
    "clf = clf.fit(features, lables)\n",
    "print(clf.predict([[57, 0]]))"
   ]
  },
  {
   "cell_type": "markdown",
   "metadata": {},
   "source": [
    "it looks cold and wet tomarrow and since it is cold and wet that answer makes since because I would not want to take a walk when it is cold and wet."
   ]
  },
  {
   "cell_type": "code",
   "execution_count": null,
   "metadata": {
    "collapsed": true
   },
   "outputs": [],
   "source": []
  }
 ],
 "metadata": {
  "anaconda-cloud": {},
  "kernelspec": {
   "display_name": "Python [Root]",
   "language": "python",
   "name": "Python [Root]"
  },
  "language_info": {
   "codemirror_mode": {
    "name": "ipython",
    "version": 3
   },
   "file_extension": ".py",
   "mimetype": "text/x-python",
   "name": "python",
   "nbconvert_exporter": "python",
   "pygments_lexer": "ipython3",
   "version": "3.5.2"
  }
 },
 "nbformat": 4,
 "nbformat_minor": 0
}
