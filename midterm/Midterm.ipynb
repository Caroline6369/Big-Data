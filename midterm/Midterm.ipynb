{
 "cells": [
  {
   "cell_type": "markdown",
   "metadata": {},
   "source": [
    "<h1> Comic Book Caracters and their Hair vs. Eye Color"
   ]
  },
  {
   "cell_type": "markdown",
   "metadata": {},
   "source": [
    "<h3> Caroline Blue"
   ]
  },
  {
   "cell_type": "markdown",
   "metadata": {},
   "source": [
    "Does the hair color or the eye color have more of a correlation with the evilness or goodness of the caracters?"
   ]
  },
  {
   "cell_type": "code",
   "execution_count": 5,
   "metadata": {
    "collapsed": false
   },
   "outputs": [
    {
     "name": "stdout",
     "output_type": "stream",
     "text": [
      "Brown Hair\n"
     ]
    }
   ],
   "source": [
    "import matplotlib.pyplot as plt\n",
    "% matplotlib inline\n",
    "DCfile = open(\"dc-wikia-data.csv\", \"r\", errors = \"ignore\")\n",
    "Marvelfile = open(\"marvel-wikia-data.csv\", \"r\", errors = \"ignore\")\n",
    "def listFromFile(file):\n",
    "    list1 = []\n",
    "    for i in file:\n",
    "        list1.append(i)\n",
    "    del list1[0]\n",
    "    for j in range(len(list1)):\n",
    "        list1[j]=list1[j].split(\",\")\n",
    "    return list1\n",
    "\n",
    "DC = listFromFile(DCfile)\n",
    "marvel =listFromFile(Marvelfile)\n",
    "print(marvel[0][6])"
   ]
  },
  {
   "cell_type": "code",
   "execution_count": 3,
   "metadata": {
    "collapsed": false
   },
   "outputs": [
    {
     "name": "stdout",
     "output_type": "stream",
     "text": [
      "{'': 601, 'Good Characters': 2832, 'Reformed Criminals': 3, 'Bad Characters': 2895, 'Neutral Characters': 565}\n"
     ]
    }
   ],
   "source": [
    "#DC\n",
    "countDC = {}\n",
    "sortedCharactersDC = {}\n",
    "for row in DC:\n",
    "    if row[4] not in sortedCharactersDC:\n",
    "        sortedCharactersDC[row[4]] = [row]\n",
    "        countDC[row[4]] = 1\n",
    "    else:\n",
    "        sortedCharactersDC[row[4]].append(row)\n",
    "        countDC[row[4]]+=1\n",
    "DC2 = {}\n",
    "for key in sortedCharactersDC:\n",
    "    DC2[key] = {\"eyes\":{},\"hair\":{}}\n",
    "    x=5\n",
    "    for bodyPart in DC2[key]:\n",
    "        for i in range(len(sortedCharactersDC[key])):\n",
    "            if sortedCharactersDC[key][i][x] not in DC2[key][bodyPart]:\n",
    "                DC2[key][bodyPart][sortedCharactersDC[key][i][x]] = 1\n",
    "            else:\n",
    "                DC2[key][bodyPart][sortedCharactersDC[key][i][x]]+=1\n",
    "        x=6\n",
    "print(countDC)\n",
    "#print(C2['Good Characters']['eyes'])\n",
    "#print(C2['Good Characters']['hair'])"
   ]
  },
  {
   "cell_type": "code",
   "execution_count": 6,
   "metadata": {
    "collapsed": false
   },
   "outputs": [
    {
     "name": "stdout",
     "output_type": "stream",
     "text": [
      "{'': 2812, 'Good Characters': 4636, 'Neutral Characters': 2208, 'Bad Characters': 6720}\n"
     ]
    }
   ],
   "source": [
    "#marvel\n",
    "countmarvel = {}\n",
    "sortedCharactersmarvel = {}\n",
    "for row in marvel:\n",
    "    if row[4] not in sortedCharactersmarvel:\n",
    "        sortedCharactersmarvel[row[4]] = [row]\n",
    "        countmarvel[row[4]] = 1\n",
    "    else:\n",
    "        sortedCharactersmarvel[row[4]].append(row)\n",
    "        countmarvel[row[4]]+=1\n",
    "marvel2 = {}\n",
    "for key in sortedCharactersmarvel:\n",
    "    marvel2[key] = {\"eyes\":{},\"hair\":{}}\n",
    "    x=5\n",
    "    for bodyPart in marvel2[key]:\n",
    "        for i in range(len(sortedCharactersmarvel[key])):\n",
    "            if sortedCharactersmarvel[key][i][x] not in marvel2[key][bodyPart]:\n",
    "                marvel2[key][bodyPart][sortedCharactersmarvel[key][i][x]] = 1\n",
    "            else:\n",
    "                marvel2[key][bodyPart][sortedCharactersmarvel[key][i][x]]+=1\n",
    "        x=6\n",
    "print(countmarvel)\n",
    "#print(marvel2['Good Characters']['eyes'])\n",
    "#print(marvel2['Good Characters']['hair'])"
   ]
  },
  {
   "cell_type": "code",
   "execution_count": 17,
   "metadata": {
    "collapsed": false
   },
   "outputs": [
    {
     "name": "stdout",
     "output_type": "stream",
     "text": [
      "{'': 707, 'Blond Hair': 352, 'Green Hair': 19, 'Red Hair': 222, 'Orange Hair': 14, 'Reddish Brown Hair': 2, 'Strawberry Blond Hair': 18, 'Pink Hair': 4, 'Purple Hair': 18, 'Grey Hair': 65, 'Violet Hair': 2, 'Black Hair': 717, 'Brown Hair': 539, 'Silver Hair': 1, 'Auburn Hair': 2, 'Gold Hair': 3, 'White Hair': 135, 'Blue Hair': 12}\n"
     ]
    },
    {
     "data": {
      "image/png": "[encoded data removed]",
      "text/plain": [
       "<matplotlib.figure.Figure at 0x10fcc3cc0>"
      ]
     },
     "metadata": {},
     "output_type": "display_data"
    }
   ],
   "source": [
    "D = DC2['Good Characters']['eyes']\n",
    "\n",
    "plt.bar(range(len(D)), D.values(), align='center')\n",
    "plt.xticks(range(len(D)), D.keys())\n",
    "print(D)"
   ]
  },
  {
   "cell_type": "code",
   "execution_count": 11,
   "metadata": {
    "collapsed": false
   },
   "outputs": [],
   "source": [
    "def printSortedDC (c,b):\n",
    "    print(sorted(DC2[c][b], key=DC2[c][b].__getitem__))\n",
    "    print(sorted(DC2[c][b].values()))\n",
    "def last6DC (c,b):\n",
    "    dict = {}\n",
    "    sort = sorted(DC2[c][b], key=DC2[c][b].__getitem__)\n",
    "    sort = sort[len(sort)-7:len(sort)]\n",
    "    for i in sort:\n",
    "        if i == '':\n",
    "            print(i)\n",
    "        else:\n",
    "            dict[i] = DC2[c][b][i]/countDC[c]\n",
    "            #print(i)\n",
    "    return dict\n",
    "def barGraphDC(c,b,colors):\n",
    "    D = last6DC(c,b)\n",
    "    plt.title('Top Six')\n",
    "    plt.bar(range(len(D)), D.values(),color=colors,alpha = 0.5)\n",
    "    plt.xticks(range(len(D)), D.keys())\n",
    "    print(c,D)\n",
    "    \n",
    "def printSortedmarvel (c,b):\n",
    "    print(sorted(marvel2[c][b], key=marvel2[c][b].__getitem__))\n",
    "    print(sorted(marvel2[c][b].values()))\n",
    "def last6marvel (c,b):\n",
    "    dict = {}\n",
    "    sort = sorted(marvel2[c][b], key=marvel2[c][b].__getitem__)\n",
    "    sort = sort[len(sort)-7:len(sort)]\n",
    "    for i in sort:\n",
    "        if i == '':\n",
    "            print(i)\n",
    "        else:\n",
    "            dict[i] = marvel2[c][b][i]/countmarvel[c]\n",
    "            #print(i)\n",
    "    return dict\n",
    "def barGraphmarvel(c,b,colors):\n",
    "    D = last6marvel(c,b)\n",
    "    plt.title('Top Six')\n",
    "    plt.bar(range(len(D)), D.values(),color=colors,alpha = 0.5)\n",
    "    plt.xticks(range(len(D)), D.keys())\n",
    "    print(c,D)"
   ]
  },
  {
   "cell_type": "code",
   "execution_count": 9,
   "metadata": {
    "collapsed": false
   },
   "outputs": [
    {
     "name": "stdout",
     "output_type": "stream",
     "text": [
      "\n",
      "Bad Characters {'Red Eyes': 0.046632124352331605, 'Black Eyes': 0.06459412780656304, 'Green Eyes': 0.03316062176165803, 'Brown Eyes': 0.09326424870466321, 'White Eyes': 0.017271157167530225, 'Blue Eyes': 0.12746113989637306}\n",
      "\n",
      "Good Characters {'Red Eyes': 0.01942090395480226, 'Black Eyes': 0.057203389830508475, 'Green Eyes': 0.0480225988700565, 'Brown Eyes': 0.1571327683615819, 'White Eyes': 0.01518361581920904, 'Blue Eyes': 0.19138418079096045}\n",
      "\n",
      "Neutral Characters {'Red Eyes': 0.017699115044247787, 'Black Eyes': 0.07964601769911504, 'Green Eyes': 0.05663716814159292, 'Brown Eyes': 0.14513274336283186, 'White Eyes': 0.03008849557522124, 'Blue Eyes': 0.18584070796460178}\n"
     ]
    },
    {
     "data": {
      "image/png": "[encoded data removed]",
      "text/plain": [
       "<matplotlib.figure.Figure at 0x10f57e828>"
      ]
     },
     "metadata": {},
     "output_type": "display_data"
    }
   ],
   "source": [
    "barGraphDC('Bad Characters','hair','red')\n",
    "barGraphDC('Good Characters','hair','blue')\n",
    "barGraphDC('Neutral Characters','hair','green')"
   ]
  },
  {
   "cell_type": "code",
   "execution_count": 10,
   "metadata": {
    "collapsed": false
   },
   "outputs": [
    {
     "name": "stdout",
     "output_type": "stream",
     "text": [
      "\n",
      "Bad Characters {'Blond Hair': 0.08981001727115717, 'Grey Hair': 0.02072538860103627, 'Black Hair': 0.20172711571675303, 'Brown Hair': 0.13678756476683937, 'Red Hair': 0.0542314335060449, 'White Hair': 0.05319516407599309}\n",
      "\n",
      "Good Characters {'Blond Hair': 0.12429378531073447, 'Grey Hair': 0.022951977401129944, 'Black Hair': 0.2531779661016949, 'Brown Hair': 0.19032485875706215, 'Red Hair': 0.07838983050847458, 'White Hair': 0.04766949152542373}\n",
      "\n",
      "Neutral Characters {'Blond Hair': 0.13274336283185842, 'Grey Hair': 0.023008849557522124, 'Black Hair': 0.2814159292035398, 'Brown Hair': 0.15575221238938053, 'Red Hair': 0.07610619469026549, 'White Hair': 0.047787610619469026}\n"
     ]
    },
    {
     "data": {
      "image/png": "[encoded data removed]",
      "text/plain": [
       "<matplotlib.figure.Figure at 0x105674550>"
      ]
     },
     "metadata": {},
     "output_type": "display_data"
    }
   ],
   "source": [
    "barGraphDC('Bad Characters','eyes','red')\n",
    "barGraphDC('Good Characters','eyes','blue')\n",
    "barGraphDC('Neutral Characters','eyes','green')"
   ]
  },
  {
   "cell_type": "code",
   "execution_count": 12,
   "metadata": {
    "collapsed": false
   },
   "outputs": [
    {
     "name": "stdout",
     "output_type": "stream",
     "text": [
      "\n",
      "Bad Characters {'Red Eyes': 0.04479166666666667, 'Black Eyes': 0.02886904761904762, 'Green Eyes': 0.0400297619047619, 'Brown Eyes': 0.08943452380952381, 'White Eyes': 0.027976190476190477, 'Blue Eyes': 0.08705357142857142}\n",
      "\n",
      "Good Characters {'Red Eyes': 0.014883520276100086, 'Black Eyes': 0.03300258843830889, 'Green Eyes': 0.04055220017256255, 'Brown Eyes': 0.16673856773080242, 'White Eyes': 0.023080241587575497, 'Blue Eyes': 0.18550474547023296}\n",
      "\n",
      "Neutral Characters {'Red Eyes': 0.0276268115942029, 'Black Eyes': 0.04710144927536232, 'Green Eyes': 0.04528985507246377, 'Brown Eyes': 0.13360507246376813, 'White Eyes': 0.028079710144927536, 'Blue Eyes': 0.14130434782608695}\n"
     ]
    },
    {
     "data": {
      "image/png": "[encoded data removed]",
      "text/plain": [
       "<matplotlib.figure.Figure at 0x10fc1ca90>"
      ]
     },
     "metadata": {},
     "output_type": "display_data"
    }
   ],
   "source": [
    "barGraphmarvel('Bad Characters','hair','red')\n",
    "barGraphmarvel('Good Characters','hair','blue')\n",
    "barGraphmarvel('Neutral Characters','hair','green')"
   ]
  },
  {
   "cell_type": "code",
   "execution_count": 13,
   "metadata": {
    "collapsed": false
   },
   "outputs": [
    {
     "name": "stdout",
     "output_type": "stream",
     "text": [
      "\n",
      "Bad Characters {'Bald': 0.06919642857142858, 'Blond Hair': 0.06830357142857142, 'No Hair': 0.1, 'Black Hair': 0.2412202380952381, 'Brown Hair': 0.128125, 'White Hair': 0.04404761904761905}\n",
      "\n",
      "Good Characters {'Blond Hair': 0.13546160483175151, 'No Hair': 0.03796376186367558, 'Black Hair': 0.2471958584987058, 'Brown Hair': 0.16738567730802417, 'Red Hair': 0.04551337359792925, 'White Hair': 0.05802415875754961}\n",
      "\n",
      "Neutral Characters {'Bald': 0.058876811594202896, 'Blond Hair': 0.10597826086956522, 'No Hair': 0.09103260869565218, 'Black Hair': 0.21693840579710144, 'Brown Hair': 0.15806159420289856, 'Red Hair': 0.050724637681159424}\n"
     ]
    },
    {
     "data": {
      "image/png": "[encoded data removed]",
      "text/plain": [
       "<matplotlib.figure.Figure at 0x10fe2c9b0>"
      ]
     },
     "metadata": {},
     "output_type": "display_data"
    }
   ],
   "source": [
    "barGraphmarvel('Bad Characters','eyes','red')\n",
    "barGraphmarvel('Good Characters','eyes','blue')\n",
    "barGraphmarvel('Neutral Characters','eyes','green')"
   ]
  },
  {
   "cell_type": "code",
   "execution_count": 14,
   "metadata": {
    "collapsed": false
   },
   "outputs": [
    {
     "name": "stdout",
     "output_type": "stream",
     "text": [
      "\n",
      "Good Characters {'Blond Hair': 0.13546160483175151, 'No Hair': 0.03796376186367558, 'Black Hair': 0.2471958584987058, 'Brown Hair': 0.16738567730802417, 'Red Hair': 0.04551337359792925, 'White Hair': 0.05802415875754961}\n",
      "\n",
      "Neutral Characters {'Bald': 0.058876811594202896, 'Blond Hair': 0.10597826086956522, 'No Hair': 0.09103260869565218, 'Black Hair': 0.21693840579710144, 'Brown Hair': 0.15806159420289856, 'Red Hair': 0.050724637681159424}\n"
     ]
    },
    {
     "data": {
      "image/png": "[encoded data removed]",
      "text/plain": [
       "<matplotlib.figure.Figure at 0x110124630>"
      ]
     },
     "metadata": {},
     "output_type": "display_data"
    }
   ],
   "source": [
    "barGraphmarvel('Good Characters','eyes','blue')\n",
    "barGraphmarvel('Neutral Characters','eyes','green')"
   ]
  },
  {
   "cell_type": "code",
   "execution_count": 15,
   "metadata": {
    "collapsed": false
   },
   "outputs": [
    {
     "name": "stdout",
     "output_type": "stream",
     "text": [
      "\n",
      "Bad Characters {'Bald': 0.06919642857142858, 'Blond Hair': 0.06830357142857142, 'No Hair': 0.1, 'Black Hair': 0.2412202380952381, 'Brown Hair': 0.128125, 'White Hair': 0.04404761904761905}\n"
     ]
    },
    {
     "data": {
      "image/png": "[encoded data removed]",
      "text/plain": [
       "<matplotlib.figure.Figure at 0x10fe20ba8>"
      ]
     },
     "metadata": {},
     "output_type": "display_data"
    }
   ],
   "source": [
    "barGraphmarvel('Bad Characters','eyes','red')"
   ]
  },
  {
   "cell_type": "code",
   "execution_count": null,
   "metadata": {
    "collapsed": true
   },
   "outputs": [],
   "source": []
  }
 ],
 "metadata": {
  "anaconda-cloud": {},
  "kernelspec": {
   "display_name": "Python [Root]",
   "language": "python",
   "name": "Python [Root]"
  },
  "language_info": {
   "codemirror_mode": {
    "name": "ipython",
    "version": 3
   },
   "file_extension": ".py",
   "mimetype": "text/x-python",
   "name": "python",
   "nbconvert_exporter": "python",
   "pygments_lexer": "ipython3",
   "version": "3.5.2"
  }
 },
 "nbformat": 4,
 "nbformat_minor": 0
}
