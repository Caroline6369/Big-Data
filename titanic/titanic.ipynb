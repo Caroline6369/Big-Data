{
 "cells": [
  {
   "cell_type": "code",
   "execution_count": 1,
   "metadata": {
    "collapsed": false
   },
   "outputs": [
    {
     "name": "stdout",
     "output_type": "stream",
     "text": [
      "(2201, 4)\n",
      "[[ 1.  1.  1.]\n",
      " [ 1.  1.  1.]\n",
      " [ 1.  1.  1.]\n",
      " ..., \n",
      " [ 0.  1.  0.]\n",
      " [ 0.  1.  0.]\n",
      " [ 0.  1.  0.]]\n",
      "[ 1.  1.  1. ...,  0.  0.  0.]\n"
     ]
    }
   ],
   "source": [
    "#code to import a csv and convert it to a numpy array\n",
    "#import the numpy library\n",
    "import numpy as np\n",
    "#open the file\n",
    "raw_data = open(\"titanic.csv\")\n",
    "# load the CSV file as a numpy matrix\n",
    "dataset = np.loadtxt(raw_data, delimiter=\",\")\n",
    "#'shape' is the dimensions of the matrix\n",
    "print(dataset.shape)\n",
    "# separate the data from the target attributes\n",
    "X = dataset[:,0:3]\n",
    "y = dataset[:,3]\n",
    "print(X)\n",
    "print(y)"
   ]
  },
  {
   "cell_type": "code",
   "execution_count": 2,
   "metadata": {
    "collapsed": false
   },
   "outputs": [
    {
     "name": "stdout",
     "output_type": "stream",
     "text": [
      "tree:  0.779291553134\n",
      "KN:  0.770208900999\n",
      "RF:  0.779291553134\n"
     ]
    }
   ],
   "source": [
    "from sklearn.cross_validation import train_test_split\n",
    "from sklearn.metrics import accuracy_score\n",
    "from sklearn import ensemble\n",
    "from sklearn import neighbors\n",
    "from sklearn import tree\n",
    "\n",
    "X_train, X_test, y_train, y_test = train_test_split(X,y, test_size = .5)\n",
    "\n",
    "tree_classifier = tree.DecisionTreeClassifier();\n",
    "tree_classifier = tree_classifier.fit(X_train, y_train)\n",
    "tree_predictions = tree_classifier.predict(X_test)\n",
    "\n",
    "knn_classifier = neighbors.KNeighborsClassifier()\n",
    "knn_classifier = knn_classifier.fit(X_train, y_train)\n",
    "knn_predictions = knn_classifier.predict(X_test)\n",
    "\n",
    "rf_classifier = ensemble.RandomForestClassifier()\n",
    "rf_classifier = rf_classifier.fit(X_train, y_train)\n",
    "rf_predictions = rf_classifier.predict(X_test)\n",
    "\n",
    "\n",
    "print(\"tree: \", accuracy_score(tree_predictions, y_test))\n",
    "print(\"KN: \", accuracy_score(knn_predictions, y_test))\n",
    "print(\"RF: \", accuracy_score(rf_predictions, y_test))"
   ]
  },
  {
   "cell_type": "code",
   "execution_count": 3,
   "metadata": {
    "collapsed": false
   },
   "outputs": [
    {
     "name": "stdout",
     "output_type": "stream",
     "text": [
      "0.1 : 0.789862895928\n",
      "0.2 : 0.789029024943\n",
      "0.3 : 0.788152193646\n",
      "0.4 : 0.78765584563\n",
      "0.5 : 0.787202270663\n",
      "0.6 : 0.787023769871\n",
      "0.7 : 0.786302790396\n",
      "0.8 : 0.784980408859\n",
      "0.9 : 0.781184401817\n"
     ]
    }
   ],
   "source": [
    "from sklearn.cross_validation import train_test_split\n",
    "from sklearn.metrics import accuracy_score\n",
    "from sklearn import ensemble\n",
    "from sklearn import neighbors\n",
    "from sklearn import tree\n",
    "import statistics as st\n",
    "tree_classifier = tree.DecisionTreeClassifier();\n",
    "\n",
    "for j in range(9):\n",
    "    mean = []\n",
    "    for i in range(10):#go to 10000\n",
    "        X_train, X_test, y_train, y_test = train_test_split(X,y, test_size = (j+1)/10)\n",
    "        tree_classifier1 = tree_classifier.fit(X_train, y_train)\n",
    "        tree_predictions = tree_classifier1.predict(X_test)\n",
    "        mean.append(accuracy_score(tree_predictions, y_test))\n",
    "    print((j+1)/10,\":\",st.mean(mean))"
   ]
  },
  {
   "cell_type": "code",
   "execution_count": 7,
   "metadata": {
    "collapsed": false
   },
   "outputs": [
    {
     "name": "stdout",
     "output_type": "stream",
     "text": [
      "DT:  0.789914027149\n",
      "KN:  0.758669683258\n",
      "RF:  0.788918552036\n",
      "DT\n"
     ]
    }
   ],
   "source": [
    "from sklearn.cross_validation import train_test_split\n",
    "from sklearn.metrics import accuracy_score\n",
    "from sklearn import ensemble\n",
    "from sklearn import neighbors\n",
    "from sklearn import tree\n",
    "import statistics as st\n",
    "\n",
    "tree_classifier = tree.DecisionTreeClassifier()\n",
    "knn_classifier = neighbors.KNeighborsClassifier()\n",
    "rf_classifier = ensemble.RandomForestClassifier()\n",
    "\n",
    "DTlist = []\n",
    "KNlist = []\n",
    "RFlist = []\n",
    "\n",
    "for i in range(10):#1000\n",
    "    X_train, X_test, y_train, y_test = train_test_split(X,y, test_size = .1)\n",
    "\n",
    "    tree_classifier1 = tree_classifier.fit(X_train, y_train)\n",
    "    tree_predictions = tree_classifier1.predict(X_test)\n",
    "    DTlist.append(accuracy_score(tree_predictions, y_test))\n",
    "\n",
    "    knn_classifier1 = knn_classifier.fit(X_train, y_train)\n",
    "    knn_predictions = knn_classifier1.predict(X_test)\n",
    "    KNlist.append(accuracy_score(knn_predictions, y_test))\n",
    "\n",
    "    rf_classifier1 = rf_classifier.fit(X_train, y_train)\n",
    "    rf_predictions = rf_classifier1.predict(X_test)\n",
    "    RFlist.append(accuracy_score(rf_predictions, y_test))\n",
    "    \n",
    "means = {\n",
    "    \"DT\" : st.mean(DTlist),\n",
    "    \"KN\" : st.mean(KNlist),\n",
    "    \"RF\" : st.mean(RFlist)\n",
    "}\n",
    "print(\"DT: \", means[\"DT\"])\n",
    "print(\"KN: \", means[\"KN\"])\n",
    "print(\"RF: \", means[\"RF\"])\n",
    "print(max(means, key=lambda key: means[key]))\n",
    "#DT:  0.789914027149\n",
    "#KN:  0.758669683258\n",
    "#RF:  0.788918552036\n",
    "#DT"
   ]
  },
  {
   "cell_type": "code",
   "execution_count": 22,
   "metadata": {
    "collapsed": false
   },
   "outputs": [
    {
     "name": "stdout",
     "output_type": "stream",
     "text": [
      "out of 10000 runs, person a. survived 0.0 times.\n",
      "out of 10000 runs, person a. survived 10000.0 times.\n",
      "out of 10000 runs, person a. survived 10000.0 times.\n"
     ]
    }
   ],
   "source": [
    "from sklearn.cross_validation import train_test_split\n",
    "from sklearn.metrics import accuracy_score\n",
    "from sklearn import ensemble\n",
    "from sklearn import neighbors\n",
    "from sklearn import tree\n",
    "import statistics as st\n",
    "\n",
    "tree_classifier = tree.DecisionTreeClassifier()\n",
    "DTlist = []\n",
    "a = [3, 1, 1]\n",
    "b = [1, 1, 0]\n",
    "c = [1, 0, 0]\n",
    "aDeaths = []\n",
    "bDeaths = []\n",
    "cDeaths = []\n",
    "for i in range(10000):\n",
    "    X_train, X_test, y_train, y_test = train_test_split(X,y, test_size = .1)\n",
    "\n",
    "    tree_classifier1 = tree_classifier.fit(X_train, y_train)\n",
    "    tree_predictions = tree_classifier1.predict(X_test)\n",
    "    DTlist.append(accuracy_score(tree_predictions, y_test))\n",
    "    \n",
    "    aDeaths.append(float(tree_classifier1.predict([a])))\n",
    "    bDeaths.append(float(tree_classifier1.predict([b])))\n",
    "    cDeaths.append(float(tree_classifier1.predict([c])))\n",
    "print(\"out of\", len(aDeaths), \"runs, person a. survived\",sum(aDeaths),\"times.\")\n",
    "print(\"out of\", len(bDeaths), \"runs, person a. survived\",sum(bDeaths),\"times.\")\n",
    "print(\"out of\", len(cDeaths), \"runs, person a. survived\",sum(cDeaths),\"times.\")"
   ]
  },
  {
   "cell_type": "code",
   "execution_count": 48,
   "metadata": {
    "collapsed": false
   },
   "outputs": [
    {
     "name": "stdout",
     "output_type": "stream",
     "text": [
      "1 0.774787330317\n",
      "2 0.782162895928\n",
      "3 0.725022624434\n",
      "2\n"
     ]
    }
   ],
   "source": [
    "from sklearn.cross_validation import train_test_split\n",
    "from sklearn.metrics import accuracy_score\n",
    "from sklearn import ensemble\n",
    "from sklearn import neighbors\n",
    "from sklearn import tree\n",
    "import statistics as st\n",
    "\n",
    "tree_classifier = tree.DecisionTreeClassifier()\n",
    "\n",
    "DTlist1 = []\n",
    "DTlist2 = []\n",
    "DTlist3 = []\n",
    "X1 = np.delete(X, np.s_[0], 1)\n",
    "X2 = np.delete(X, np.s_[1], 1)\n",
    "X3 = np.delete(X, np.s_[2], 1)\n",
    "\n",
    "\n",
    "for i in range(1000):#1000\n",
    "    X_train, X_test, y_train, y_test = train_test_split(X1,y, test_size = .1)\n",
    "    tree_classifier1 = tree_classifier.fit(X_train, y_train)\n",
    "    tree_predictions = tree_classifier1.predict(X_test)\n",
    "    DTlist1.append(accuracy_score(tree_predictions, y_test))\n",
    "    \n",
    "    X_train, X_test, y_train, y_test = train_test_split(X2,y, test_size = .1)\n",
    "    tree_classifier1 = tree_classifier.fit(X_train, y_train)\n",
    "    tree_predictions = tree_classifier1.predict(X_test)\n",
    "    DTlist2.append(accuracy_score(tree_predictions, y_test))\n",
    "    \n",
    "    X_train, X_test, y_train, y_test = train_test_split(X3,y, test_size = .1)\n",
    "    tree_classifier1 = tree_classifier.fit(X_train, y_train)\n",
    "    tree_predictions = tree_classifier1.predict(X_test)\n",
    "    DTlist3.append(accuracy_score(tree_predictions, y_test))\n",
    " \n",
    " \n",
    "means = [st.mean(DTlist1),st.mean(DTlist2),st.mean(DTlist3)]\n",
    "print(\"1\", means[0])\n",
    "print(\"2\", means[1])\n",
    "print(\"3\", means[2])\n",
    "max_value = max(means)\n",
    "max_index = means.index(max_value)\n",
    "print(max_index+1)"
   ]
  },
  {
   "cell_type": "code",
   "execution_count": null,
   "metadata": {
    "collapsed": false
   },
   "outputs": [],
   "source": []
  },
  {
   "cell_type": "code",
   "execution_count": null,
   "metadata": {
    "collapsed": false
   },
   "outputs": [],
   "source": []
  },
  {
   "cell_type": "code",
   "execution_count": null,
   "metadata": {
    "collapsed": true
   },
   "outputs": [],
   "source": []
  }
 ],
 "metadata": {
  "anaconda-cloud": {},
  "kernelspec": {
   "display_name": "Python [Root]",
   "language": "python",
   "name": "Python [Root]"
  },
  "language_info": {
   "codemirror_mode": {
    "name": "ipython",
    "version": 3
   },
   "file_extension": ".py",
   "mimetype": "text/x-python",
   "name": "python",
   "nbconvert_exporter": "python",
   "pygments_lexer": "ipython3",
   "version": "3.5.2"
  }
 },
 "nbformat": 4,
 "nbformat_minor": 0
}
